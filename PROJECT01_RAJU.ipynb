{
  "nbformat": 4,
  "nbformat_minor": 0,
  "metadata": {
    "colab": {
      "provenance": [],
      "gpuType": "T4",
      "authorship_tag": "ABX9TyMxs7s0FHXnajmPtugaiKtB",
      "include_colab_link": true
    },
    "kernelspec": {
      "name": "python3",
      "display_name": "Python 3"
    },
    "language_info": {
      "name": "python"
    },
    "accelerator": "GPU"
  },
  "cells": [
    {
      "cell_type": "markdown",
      "metadata": {
        "id": "view-in-github",
        "colab_type": "text"
      },
      "source": [
        "<a href=\"https://colab.research.google.com/github/RajuKumar21/GenzEducateWing/blob/main/PROJECT01_RAJU.ipynb\" target=\"_parent\"><img src=\"https://colab.research.google.com/assets/colab-badge.svg\" alt=\"Open In Colab\"/></a>"
      ]
    },
    {
      "cell_type": "code",
      "execution_count": 3,
      "metadata": {
        "colab": {
          "base_uri": "https://localhost:8080/"
        },
        "id": "xVyEMFH-S-Ql",
        "outputId": "d01240ee-bdac-4a80-e64c-af508b10ecb0"
      },
      "outputs": [
        {
          "output_type": "stream",
          "name": "stdout",
          "text": [
            "Requirement already satisfied: textblob in /usr/local/lib/python3.11/dist-packages (0.19.0)\n",
            "Requirement already satisfied: nltk>=3.9 in /usr/local/lib/python3.11/dist-packages (from textblob) (3.9.1)\n",
            "Requirement already satisfied: click in /usr/local/lib/python3.11/dist-packages (from nltk>=3.9->textblob) (8.2.1)\n",
            "Requirement already satisfied: joblib in /usr/local/lib/python3.11/dist-packages (from nltk>=3.9->textblob) (1.5.1)\n",
            "Requirement already satisfied: regex>=2021.8.3 in /usr/local/lib/python3.11/dist-packages (from nltk>=3.9->textblob) (2024.11.6)\n",
            "Requirement already satisfied: tqdm in /usr/local/lib/python3.11/dist-packages (from nltk>=3.9->textblob) (4.67.1)\n",
            "[nltk_data] Downloading package brown to /root/nltk_data...\n",
            "[nltk_data]   Package brown is already up-to-date!\n",
            "[nltk_data] Downloading package punkt_tab to /root/nltk_data...\n",
            "[nltk_data]   Package punkt_tab is already up-to-date!\n",
            "[nltk_data] Downloading package wordnet to /root/nltk_data...\n",
            "[nltk_data]   Package wordnet is already up-to-date!\n",
            "[nltk_data] Downloading package averaged_perceptron_tagger_eng to\n",
            "[nltk_data]     /root/nltk_data...\n",
            "[nltk_data]   Package averaged_perceptron_tagger_eng is already up-to-\n",
            "[nltk_data]       date!\n",
            "[nltk_data] Downloading package conll2000 to /root/nltk_data...\n",
            "[nltk_data]   Package conll2000 is already up-to-date!\n",
            "[nltk_data] Downloading package movie_reviews to /root/nltk_data...\n",
            "[nltk_data]   Package movie_reviews is already up-to-date!\n",
            "Finished.\n"
          ]
        }
      ],
      "source": [
        "# Install required libraries\n",
        "!pip install textblob\n",
        "!python -m textblob.download_corpora"
      ]
    },
    {
      "cell_type": "code",
      "source": [
        "import re\n",
        "from textblob import TextBlob\n",
        "import pandas as pd\n",
        "\n",
        "class TextSentimentAnalyzer(object):\n",
        "    '''\n",
        "    Generic class for sentiment analysis of text data.\n",
        "    '''\n",
        "    def __init__(self):  # Fixed: Changed _init_ to __init__\n",
        "        '''\n",
        "        Initialize the analyzer.\n",
        "        '''\n",
        "        pass  # No API setup needed\n",
        "\n",
        "    def clean_text(self, text):\n",
        "        '''\n",
        "        Clean text by removing links, mentions, and special characters.\n",
        "        '''\n",
        "        return ' '.join(re.sub(r\"(@[A-Za-z0-9]+)|([^0-9A-Za-z \\t])|(\\w+:\\/\\/\\S+)\", \" \", text).split())\n",
        "\n",
        "    def get_text_sentiment(self, text):\n",
        "        '''\n",
        "        Classify sentiment of text using TextBlob.\n",
        "        '''\n",
        "        analysis = TextBlob(self.clean_text(text))\n",
        "        if analysis.sentiment.polarity > 0:\n",
        "            return 'positive'\n",
        "        elif analysis.sentiment.polarity == 0:\n",
        "            return 'neutral'\n",
        "        else:\n",
        "            return 'negative'\n",
        "\n",
        "    def get_texts(self, texts):\n",
        "        '''\n",
        "        Process a list of texts and return parsed data.\n",
        "        '''\n",
        "        parsed_texts = []\n",
        "        for text in texts:\n",
        "            parsed_text = {\n",
        "                'text': text,\n",
        "                'sentiment': self.get_text_sentiment(text)\n",
        "            }\n",
        "            parsed_texts.append(parsed_text)\n",
        "        return parsed_texts\n",
        "\n",
        "def main():\n",
        "    # Initialize analyzer\n",
        "    analyzer = TextSentimentAnalyzer()\n",
        "\n",
        "    # Sample dataset of tweets (hardcoded for simplicity)\n",
        "    sample_tweets = [\n",
        "        \"Donald Trump is doing great for the economy! #MAGA\",\n",
        "        \"Disappointed with Trump's latest speech, too divisive.\",\n",
        "        \"Just watched Trump's rally, feeling neutral about it.\",\n",
        "        \"Trump's policies are harming the environment, not good!\",\n",
        "        \"Loved Trump's energy at the event, so inspiring!\",\n",
        "        \"Why does Trump keep making these decisions? Frustrating.\",\n",
        "        \"Trump's new plan sounds promising, let’s see.\",\n",
        "        \"I’m tired of hearing about Trump every day, ugh.\",\n",
        "        \"His leadership style is bold and effective!\",\n",
        "        \"Trump’s comments were out of line this time.\"\n",
        "    ]\n",
        "\n",
        "    # Analyze tweets\n",
        "    parsed_tweets = analyzer.get_texts(sample_tweets)\n",
        "\n",
        "    if not parsed_tweets:\n",
        "        print(\"No texts to analyze.\")\n",
        "        return\n",
        "\n",
        "    # Calculate sentiment percentages\n",
        "    ptweets = [tweet for tweet in parsed_tweets if tweet['sentiment'] == 'positive']\n",
        "    ntweets = [tweet for tweet in parsed_tweets if tweet['sentiment'] == 'negative']\n",
        "    neutral_tweets = len(parsed_tweets) - len(ptweets) - len(ntweets)\n",
        "\n",
        "    # Avoid division by zero\n",
        "    total_tweets = len(parsed_tweets)\n",
        "    print(f\"Total texts analyzed: {total_tweets}\")\n",
        "    print(f\"Positive texts percentage: {100 * len(ptweets) / total_tweets:.2f}%\")\n",
        "    print(f\"Negative texts percentage: {100 * len(ntweets) / total_tweets:.2f}%\")\n",
        "    print(f\"Neutral texts percentage: {100 * neutral_tweets / total_tweets:.2f}%\")\n",
        "\n",
        "    # Print sample tweets\n",
        "    print(\"\\nPositive texts:\")\n",
        "    for tweet in ptweets[:5]:\n",
        "        print(f\"- {tweet['text']}\")\n",
        "\n",
        "    print(\"\\nNegative texts:\")\n",
        "    for tweet in ntweets[:5]:\n",
        "        print(f\"- {tweet['text']}\")\n",
        "\n",
        "if __name__ == \"__main__\":  # Fixed: Changed _name_ and _main_ to __name__ and __main__\n",
        "    main()"
      ],
      "metadata": {
        "colab": {
          "base_uri": "https://localhost:8080/"
        },
        "id": "1TVq0f6STN9q",
        "outputId": "cf8a443e-9813-46f8-90ad-920d84e0ecb1"
      },
      "execution_count": 6,
      "outputs": [
        {
          "output_type": "stream",
          "name": "stdout",
          "text": [
            "Total texts analyzed: 10\n",
            "Positive texts percentage: 40.00%\n",
            "Negative texts percentage: 40.00%\n",
            "Neutral texts percentage: 20.00%\n",
            "\n",
            "Positive texts:\n",
            "- Donald Trump is doing great for the economy! #MAGA\n",
            "- Loved Trump's energy at the event, so inspiring!\n",
            "- Trump's new plan sounds promising, let’s see.\n",
            "- His leadership style is bold and effective!\n",
            "\n",
            "Negative texts:\n",
            "- Disappointed with Trump's latest speech, too divisive.\n",
            "- Trump's policies are harming the environment, not good!\n",
            "- Why does Trump keep making these decisions? Frustrating.\n",
            "- I’m tired of hearing about Trump every day, ugh.\n"
          ]
        }
      ]
    }
  ]
}